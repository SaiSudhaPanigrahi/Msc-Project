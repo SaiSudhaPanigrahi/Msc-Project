{
  "nbformat": 4,
  "nbformat_minor": 0,
  "metadata": {
    "colab": {
      "name": "fashion_mnist_gan_v2.ipynb",
      "version": "0.3.2",
      "provenance": [],
      "toc_visible": true,
      "include_colab_link": true
    },
    "kernelspec": {
      "name": "python3",
      "display_name": "Python 3"
    },
    "accelerator": "GPU"
  },
  "cells": [
    {
      "cell_type": "markdown",
      "metadata": {
        "id": "view-in-github",
        "colab_type": "text"
      },
      "source": [
        "[View in Colaboratory](https://colab.research.google.com/github/motkeg/Msc-Project/blob/fashion_mnist/fashion_mnist_gan_v2.ipynb)"
      ]
    },
    {
      "metadata": {
        "id": "88fo6PERGgyH",
        "colab_type": "text"
      },
      "cell_type": "markdown",
      "source": [
        "# Fasion_MNIST GAN (Generative Adversarial Networks)"
      ]
    },
    {
      "metadata": {
        "id": "nyE-C8fuBAYM",
        "colab_type": "code",
        "colab": {}
      },
      "cell_type": "code",
      "source": [
        "import os\n",
        "import numpy as np\n",
        "from tqdm import tqdm\n",
        "import tensorflow as tf\n",
        "from tensorflow import keras\n",
        "from tensorflow.keras.layers import (Input, Dense, Reshape, Flatten, Dropout,\n",
        "                                    BatchNormalization, Activation, ZeroPadding2D,\n",
        "                                    LeakyReLU, UpSampling2D, Conv2D)\n",
        "\n",
        "from tensorflow.keras.models import Model, Sequential\n",
        "from tensorflow.keras.datasets import fashion_mnist\n",
        "from tensorflow.keras.optimizers import Adam\n",
        "\n",
        "from tensorflow.keras import initializers\n",
        "\n",
        "tf.keras.backend.set_image_data_format('channels_first')\n",
        "\n",
        "JOB_DIR = \"./weights/gan_v2\"    \n",
        "USE_TPU = False\n",
        "EPOCHS = 1000\n",
        "BATCH= 128\n",
        "SAVE = 100\n",
        "USE_TPU = False\n",
        "\n",
        "# Deterministic output.\n",
        "# Tired of seeing the same results every time? Remove the line below.\n",
        "np.random.seed(1000)\n",
        "if not os.path.exists(\"./samples/fashion_mnist_v2\"):\n",
        "    os.makedirs(\"./samples/fashion_mnist_v2\")\n",
        "    \n",
        "if not os.path.exists(JOB_DIR):\n",
        "    os.makedirs(JOB_DIR)\n",
        "    "
      ],
      "execution_count": 0,
      "outputs": []
    },
    {
      "metadata": {
        "id": "WxOMMlJiBM4L",
        "colab_type": "code",
        "colab": {}
      },
      "cell_type": "code",
      "source": [
        "\n",
        "import matplotlib.pyplot as plt\n",
        "\n",
        " # Plot the loss from each batch\n",
        "def plot_loss(epoch,d_Losses,g_Losses):\n",
        "    plt.figure(figsize=(10, 8))\n",
        "    plt.plot(d_Losses, label='Discriminitive loss')\n",
        "    plt.plot(d_Losses, label='Generative loss')\n",
        "    plt.xlabel('Epoch')\n",
        "    plt.ylabel('Loss')\n",
        "    plt.legend()\n",
        "    plt.savefig('dcgan_loss_epoch_%d.png' % epoch)\n",
        "\n",
        "# Create a wall of generated images\n",
        "def plot_generated_images(imgs , epoch, examples=25, dim=(5,5), figsize=(5, 5)):\n",
        "    noise = np.random.normal(0, 1, size=[examples, 100])\n",
        "    plt.figure(figsize=figsize)\n",
        "    for i in range(imgs.shape[0]):\n",
        "        plt.subplot(dim[0], dim[1], i+1)\n",
        "        plt.imshow(imgs[i, 0], interpolation='nearest', cmap='gray_r')\n",
        "        plt.axis('off')\n",
        "    plt.tight_layout()\n",
        "    name = \"fashion_mnist_v2_{}.png\".format(epoch)\n",
        "    plt.savefig('./samples/fashion_mnist_v2/' + name)\n"
      ],
      "execution_count": 0,
      "outputs": []
    },
    {
      "metadata": {
        "id": "pqFyzNX4GgIh",
        "colab_type": "code",
        "colab": {}
      },
      "cell_type": "code",
      "source": [
        "\n",
        "\n",
        "class DCGAN_V2():\n",
        "  \n",
        "    def __init__(self):\n",
        "        \n",
        "        # The results are a little better when the dimensionality of the random vector is only 10.\n",
        "        # The dimensionality has been left at 100 for consistency with other GAN implementations.\n",
        "        self.randomDim = 100\n",
        "\n",
        "        # Load data\n",
        "        (X_train, y_train), (X_test, y_test) = fashion_mnist.load_data()\n",
        "        X_train = (X_train.astype(np.float32) - 127.5)/127.5\n",
        "        #self.X_train = np.expand_dims(X_train, -1)\n",
        "        self.X_train = X_train[:, np.newaxis, :, :]\n",
        "\n",
        "        self.tensorboard = keras.callbacks.TensorBoard(log_dir=JOB_DIR,\n",
        "                                                        batch_size=BATCH,\n",
        "                                                        write_graph=True,\n",
        "                                                        histogram_freq=0,\n",
        "                                                        write_images=True,\n",
        "                                                        write_grads=True)\n",
        "        #self.checkpointer  = keras.callbacks.ModelCheckpoint(filepath=f'{FLAGS.job_dir}/gan_model.best.hdf5', verbose = 1, save_best_only=True)\n",
        "\n",
        "        # Optimizer\n",
        "        self.optimizer = Adam(lr=0.0002, beta_1=0.5)\n",
        "\n",
        "        self.discriminator = self.build_D()\n",
        "        self.generator = self.build_G()\n",
        "\n",
        "        # Combined network\n",
        "        self.discriminator.trainable = False\n",
        "        ganInput = Input(shape=(self.randomDim,))\n",
        "        x = self.generator(ganInput)\n",
        "        ganOutput = self.discriminator(x)\n",
        "        self.gan = Model(inputs=ganInput, outputs=ganOutput)\n",
        "        self.gan.compile(loss='binary_crossentropy', optimizer=self.optimizer)\n",
        "\n",
        "        self.dLosses = []\n",
        "        self.gLosses = []\n",
        "\n",
        "\n",
        "    def build_G(self):\n",
        "        # Generator\n",
        "        generator = Sequential()\n",
        "        generator.add(Dense(128*7*7, input_dim=self.randomDim, kernel_initializer=initializers.RandomNormal(stddev=0.02)))\n",
        "        generator.add(LeakyReLU(0.2))\n",
        "        generator.add(Reshape((128,7, 7)))\n",
        "        generator.add(UpSampling2D(size=(2, 2)))\n",
        "        generator.add(Conv2D(64, kernel_size=(5, 5), padding='same'))\n",
        "        generator.add(LeakyReLU(0.2))\n",
        "        generator.add(UpSampling2D(size=(2, 2)))\n",
        "        generator.add(Conv2D(1, kernel_size=(5, 5), padding='same', activation='tanh'))\n",
        "        generator.compile(loss='binary_crossentropy', optimizer=self.optimizer)\n",
        "        generator.summary()\n",
        "        return generator\n",
        "\n",
        "\n",
        "    def build_D(self):\n",
        "        # Discriminator\n",
        "        discriminator = Sequential()\n",
        "\n",
        "        discriminator.add(Conv2D(64, kernel_size=(5, 5), strides=(2, 2), padding='same', input_shape=(1,28, 28), kernel_initializer=initializers.RandomNormal(stddev=0.02)))\n",
        "        discriminator.add(LeakyReLU(0.2))\n",
        "        discriminator.add(Dropout(0.3))\n",
        "        discriminator.add(Conv2D(128, kernel_size=(5, 5), strides=(2, 2), padding='same'))\n",
        "        discriminator.add(LeakyReLU(0.2))\n",
        "        discriminator.add(Dropout(0.3))\n",
        "        discriminator.add(Flatten())\n",
        "        discriminator.add(Dense(1, activation='sigmoid'))\n",
        "        discriminator.compile(loss='binary_crossentropy', optimizer=self.optimizer)\n",
        "        discriminator.summary()\n",
        "        return discriminator\n",
        "\n",
        "        \n",
        "\n",
        "\n",
        "    def __call__(self, epochs=1, batchSize=BATCH):\n",
        "        batchCount = self.X_train.shape[0] // batchSize\n",
        "        print (f'Epochs:{epochs}\\nBatch size: {batchSize}\\t | Batches per epoch: {batchCount}')\n",
        "            \n",
        "        for e in range(1, epochs+1):\n",
        "            print ('-'*15, 'Epoch %d' % e, '-'*15)\n",
        "            for _ in tqdm(range(batchCount)):\n",
        "                # Get a random set of input noise and images\n",
        "                noise = np.random.normal( 0,1, size=[batchSize, self.randomDim])\n",
        "                imageBatch = self.X_train[np.random.randint(0, self.X_train.shape[0], size=batchSize)]\n",
        "\n",
        "                # Generate fake images\n",
        "                generatedImages = self.generator.predict(noise)\n",
        "                X = np.concatenate([imageBatch, generatedImages])\n",
        "\n",
        "                # Labels for generated and real data\n",
        "                yDis = np.zeros(2*batchSize)\n",
        "                # One-sided label smoothing\n",
        "                yDis[:batchSize] = 0.9\n",
        "\n",
        "                # Train discriminator\n",
        "                self.discriminator.trainable = True\n",
        "                dloss = self.discriminator.train_on_batch(X, yDis)\n",
        "\n",
        "                # Train generator\n",
        "                noise = np.random.normal(0, 1, size=[batchSize,self.randomDim])\n",
        "                yGen = np.ones(batchSize)\n",
        "                self.discriminator.trainable = False\n",
        "                gloss = self.gan.train_on_batch(noise, yGen)\n",
        "\n",
        "            # Store loss of most recent batch from this epoch\n",
        "            self.dLosses.append(dloss)\n",
        "            self.gLosses.append(gloss)\n",
        "\n",
        "            if e == 1 or e % 5 == 0:\n",
        "                noise = np.random.normal(0, 1, size=[25, self.randomDim])\n",
        "                imgs = self.generator.predict(noise)\n",
        "                plot_generated_images(imgs,e)\n",
        "                self.save_models(e)\n",
        "\n",
        "        # Plot losses from every epoch\n",
        "        plot_loss(e , self.dLosses,self.gLosses)\n",
        "\n",
        "    # Save the generator and discriminator networks (and weights) for later use\n",
        "    def save_models(self,epoch):\n",
        "        self.generator.save(f'{JOB_DIR}/dcgan_generator.h5')\n",
        "        self.discriminator.save(f'{JOB_DIR}/dcgan_discriminator.h5')\n",
        "        self.gan.save(f'{JOB_DIR}/dcgan_combined.h5')        \n",
        "\n"
      ],
      "execution_count": 0,
      "outputs": []
    },
    {
      "metadata": {
        "id": "jPbMdi3pBTOx",
        "colab_type": "code",
        "colab": {
          "height": 4763
        },
        "outputId": "8120f5b2-cfde-4f9d-86a5-4f4ba850e394"
      },
      "cell_type": "code",
      "source": [
        "\n",
        "model = DCGAN_V2()\n",
        "model(epochs=EPOCHS)"
      ],
      "execution_count": 0,
      "outputs": [
        {
          "output_type": "stream",
          "text": [
            "_________________________________________________________________\n",
            "Layer (type)                 Output Shape              Param #   \n",
            "=================================================================\n",
            "conv2d (Conv2D)              (None, 64, 14, 14)        1664      \n",
            "_________________________________________________________________\n",
            "leaky_re_lu (LeakyReLU)      (None, 64, 14, 14)        0         \n",
            "_________________________________________________________________\n",
            "dropout (Dropout)            (None, 64, 14, 14)        0         \n",
            "_________________________________________________________________\n",
            "conv2d_1 (Conv2D)            (None, 128, 7, 7)         204928    \n",
            "_________________________________________________________________\n",
            "leaky_re_lu_1 (LeakyReLU)    (None, 128, 7, 7)         0         \n",
            "_________________________________________________________________\n",
            "dropout_1 (Dropout)          (None, 128, 7, 7)         0         \n",
            "_________________________________________________________________\n",
            "flatten (Flatten)            (None, 6272)              0         \n",
            "_________________________________________________________________\n",
            "dense (Dense)                (None, 1)                 6273      \n",
            "=================================================================\n",
            "Total params: 212,865\n",
            "Trainable params: 212,865\n",
            "Non-trainable params: 0\n",
            "_________________________________________________________________\n",
            "_________________________________________________________________\n",
            "Layer (type)                 Output Shape              Param #   \n",
            "=================================================================\n",
            "dense_1 (Dense)              (None, 6272)              633472    \n",
            "_________________________________________________________________\n",
            "leaky_re_lu_2 (LeakyReLU)    (None, 6272)              0         \n",
            "_________________________________________________________________\n",
            "reshape (Reshape)            (None, 128, 7, 7)         0         \n",
            "_________________________________________________________________\n",
            "up_sampling2d (UpSampling2D) (None, 128, 14, 14)       0         \n",
            "_________________________________________________________________\n",
            "conv2d_2 (Conv2D)            (None, 64, 14, 14)        204864    \n",
            "_________________________________________________________________\n",
            "leaky_re_lu_3 (LeakyReLU)    (None, 64, 14, 14)        0         \n",
            "_________________________________________________________________\n",
            "up_sampling2d_1 (UpSampling2 (None, 64, 28, 28)        0         \n",
            "_________________________________________________________________\n",
            "conv2d_3 (Conv2D)            (None, 1, 28, 28)         1601      \n",
            "=================================================================\n",
            "Total params: 839,937\n",
            "Trainable params: 839,937\n",
            "Non-trainable params: 0\n",
            "_________________________________________________________________\n"
          ],
          "name": "stdout"
        },
        {
          "output_type": "stream",
          "text": [
            "\r  0%|          | 0/468 [00:00<?, ?it/s]"
          ],
          "name": "stderr"
        },
        {
          "output_type": "stream",
          "text": [
            "Epochs:1000\n",
            "Batch size: 128\t | Batches per epoch: 468\n",
            "--------------- Epoch 1 ---------------\n"
          ],
          "name": "stdout"
        },
        {
          "output_type": "stream",
          "text": [
            "100%|██████████| 468/468 [00:37<00:00, 12.55it/s]\n",
            "  0%|          | 2/468 [00:00<00:33, 14.04it/s]"
          ],
          "name": "stderr"
        },
        {
          "output_type": "stream",
          "text": [
            "--------------- Epoch 2 ---------------\n"
          ],
          "name": "stdout"
        },
        {
          "output_type": "stream",
          "text": [
            "100%|██████████| 468/468 [00:33<00:00, 14.05it/s]\n",
            "  0%|          | 2/468 [00:00<00:32, 14.29it/s]"
          ],
          "name": "stderr"
        },
        {
          "output_type": "stream",
          "text": [
            "--------------- Epoch 3 ---------------\n"
          ],
          "name": "stdout"
        },
        {
          "output_type": "stream",
          "text": [
            "100%|██████████| 468/468 [00:33<00:00, 13.88it/s]\n",
            "  0%|          | 2/468 [00:00<00:33, 14.01it/s]"
          ],
          "name": "stderr"
        },
        {
          "output_type": "stream",
          "text": [
            "--------------- Epoch 4 ---------------\n"
          ],
          "name": "stdout"
        },
        {
          "output_type": "stream",
          "text": [
            "100%|██████████| 468/468 [00:33<00:00, 14.06it/s]\n",
            "  0%|          | 2/468 [00:00<00:33, 13.75it/s]"
          ],
          "name": "stderr"
        },
        {
          "output_type": "stream",
          "text": [
            "--------------- Epoch 5 ---------------\n"
          ],
          "name": "stdout"
        },
        {
          "output_type": "stream",
          "text": [
            "100%|██████████| 468/468 [00:33<00:00, 13.98it/s]\n",
            "  0%|          | 2/468 [00:00<00:32, 14.12it/s]"
          ],
          "name": "stderr"
        },
        {
          "output_type": "stream",
          "text": [
            "--------------- Epoch 6 ---------------\n"
          ],
          "name": "stdout"
        },
        {
          "output_type": "stream",
          "text": [
            "100%|██████████| 468/468 [00:33<00:00, 13.71it/s]\n",
            "  0%|          | 2/468 [00:00<00:33, 13.91it/s]"
          ],
          "name": "stderr"
        },
        {
          "output_type": "stream",
          "text": [
            "--------------- Epoch 7 ---------------\n"
          ],
          "name": "stdout"
        },
        {
          "output_type": "stream",
          "text": [
            "100%|██████████| 468/468 [00:34<00:00, 13.60it/s]\n",
            "  0%|          | 2/468 [00:00<00:32, 14.17it/s]"
          ],
          "name": "stderr"
        },
        {
          "output_type": "stream",
          "text": [
            "--------------- Epoch 8 ---------------\n"
          ],
          "name": "stdout"
        },
        {
          "output_type": "stream",
          "text": [
            "100%|██████████| 468/468 [00:34<00:00, 13.58it/s]\n",
            "  0%|          | 2/468 [00:00<00:33, 13.86it/s]"
          ],
          "name": "stderr"
        },
        {
          "output_type": "stream",
          "text": [
            "--------------- Epoch 9 ---------------\n"
          ],
          "name": "stdout"
        },
        {
          "output_type": "stream",
          "text": [
            "100%|██████████| 468/468 [00:34<00:00, 13.67it/s]\n",
            "  0%|          | 2/468 [00:00<00:33, 13.91it/s]"
          ],
          "name": "stderr"
        },
        {
          "output_type": "stream",
          "text": [
            "--------------- Epoch 10 ---------------\n"
          ],
          "name": "stdout"
        },
        {
          "output_type": "stream",
          "text": [
            "100%|██████████| 468/468 [00:34<00:00, 13.65it/s]\n",
            "  0%|          | 2/468 [00:00<00:35, 13.27it/s]"
          ],
          "name": "stderr"
        },
        {
          "output_type": "stream",
          "text": [
            "--------------- Epoch 11 ---------------\n"
          ],
          "name": "stdout"
        },
        {
          "output_type": "stream",
          "text": [
            "100%|██████████| 468/468 [00:34<00:00, 13.73it/s]\n",
            "  0%|          | 2/468 [00:00<00:33, 13.74it/s]"
          ],
          "name": "stderr"
        },
        {
          "output_type": "stream",
          "text": [
            "--------------- Epoch 12 ---------------\n"
          ],
          "name": "stdout"
        },
        {
          "output_type": "stream",
          "text": [
            "100%|██████████| 468/468 [00:34<00:00, 13.60it/s]\n",
            "  0%|          | 2/468 [00:00<00:33, 13.84it/s]"
          ],
          "name": "stderr"
        },
        {
          "output_type": "stream",
          "text": [
            "--------------- Epoch 13 ---------------\n"
          ],
          "name": "stdout"
        },
        {
          "output_type": "stream",
          "text": [
            "100%|██████████| 468/468 [00:34<00:00, 13.55it/s]\n",
            "  0%|          | 2/468 [00:00<00:33, 13.86it/s]"
          ],
          "name": "stderr"
        },
        {
          "output_type": "stream",
          "text": [
            "--------------- Epoch 14 ---------------\n"
          ],
          "name": "stdout"
        },
        {
          "output_type": "stream",
          "text": [
            "100%|██████████| 468/468 [00:34<00:00, 13.80it/s]\n",
            "  0%|          | 2/468 [00:00<00:33, 13.99it/s]"
          ],
          "name": "stderr"
        },
        {
          "output_type": "stream",
          "text": [
            "--------------- Epoch 15 ---------------\n"
          ],
          "name": "stdout"
        },
        {
          "output_type": "stream",
          "text": [
            "100%|██████████| 468/468 [00:34<00:00, 13.75it/s]\n",
            "  0%|          | 2/468 [00:00<00:34, 13.51it/s]"
          ],
          "name": "stderr"
        },
        {
          "output_type": "stream",
          "text": [
            "--------------- Epoch 16 ---------------\n"
          ],
          "name": "stdout"
        },
        {
          "output_type": "stream",
          "text": [
            "100%|██████████| 468/468 [00:34<00:00, 13.70it/s]\n",
            "  0%|          | 2/468 [00:00<00:34, 13.57it/s]"
          ],
          "name": "stderr"
        },
        {
          "output_type": "stream",
          "text": [
            "--------------- Epoch 17 ---------------\n"
          ],
          "name": "stdout"
        },
        {
          "output_type": "stream",
          "text": [
            "100%|██████████| 468/468 [00:34<00:00, 13.65it/s]\n",
            "  0%|          | 2/468 [00:00<00:33, 13.74it/s]"
          ],
          "name": "stderr"
        },
        {
          "output_type": "stream",
          "text": [
            "--------------- Epoch 18 ---------------\n"
          ],
          "name": "stdout"
        },
        {
          "output_type": "stream",
          "text": [
            "100%|██████████| 468/468 [00:34<00:00, 13.72it/s]\n",
            "  0%|          | 2/468 [00:00<00:33, 13.97it/s]"
          ],
          "name": "stderr"
        },
        {
          "output_type": "stream",
          "text": [
            "--------------- Epoch 19 ---------------\n"
          ],
          "name": "stdout"
        },
        {
          "output_type": "stream",
          "text": [
            "100%|██████████| 468/468 [00:34<00:00, 13.62it/s]\n",
            "  0%|          | 2/468 [00:00<00:33, 13.89it/s]"
          ],
          "name": "stderr"
        },
        {
          "output_type": "stream",
          "text": [
            "--------------- Epoch 20 ---------------\n"
          ],
          "name": "stdout"
        },
        {
          "output_type": "stream",
          "text": [
            "100%|██████████| 468/468 [00:34<00:00, 13.91it/s]\n",
            "  0%|          | 2/468 [00:00<00:33, 13.85it/s]"
          ],
          "name": "stderr"
        },
        {
          "output_type": "stream",
          "text": [
            "--------------- Epoch 21 ---------------\n"
          ],
          "name": "stdout"
        },
        {
          "output_type": "stream",
          "text": [
            "100%|██████████| 468/468 [00:34<00:00, 13.72it/s]\n",
            "  0%|          | 2/468 [00:00<00:34, 13.52it/s]"
          ],
          "name": "stderr"
        },
        {
          "output_type": "stream",
          "text": [
            "--------------- Epoch 22 ---------------\n"
          ],
          "name": "stdout"
        },
        {
          "output_type": "stream",
          "text": [
            "100%|██████████| 468/468 [00:34<00:00, 13.69it/s]\n",
            "  0%|          | 2/468 [00:00<00:33, 13.71it/s]"
          ],
          "name": "stderr"
        },
        {
          "output_type": "stream",
          "text": [
            "--------------- Epoch 23 ---------------\n"
          ],
          "name": "stdout"
        },
        {
          "output_type": "stream",
          "text": [
            "100%|██████████| 468/468 [00:34<00:00, 13.87it/s]\n",
            "  0%|          | 2/468 [00:00<00:33, 13.81it/s]"
          ],
          "name": "stderr"
        },
        {
          "output_type": "stream",
          "text": [
            "--------------- Epoch 24 ---------------\n"
          ],
          "name": "stdout"
        },
        {
          "output_type": "stream",
          "text": [
            "100%|██████████| 468/468 [00:34<00:00, 13.71it/s]\n",
            "  0%|          | 2/468 [00:00<00:33, 13.73it/s]"
          ],
          "name": "stderr"
        },
        {
          "output_type": "stream",
          "text": [
            "--------------- Epoch 25 ---------------\n"
          ],
          "name": "stdout"
        },
        {
          "output_type": "stream",
          "text": [
            "100%|██████████| 468/468 [00:34<00:00, 13.61it/s]\n",
            "  0%|          | 2/468 [00:00<00:34, 13.44it/s]"
          ],
          "name": "stderr"
        },
        {
          "output_type": "stream",
          "text": [
            "--------------- Epoch 26 ---------------\n"
          ],
          "name": "stdout"
        },
        {
          "output_type": "stream",
          "text": [
            "100%|██████████| 468/468 [00:34<00:00, 13.64it/s]\n",
            "  0%|          | 2/468 [00:00<00:33, 13.92it/s]"
          ],
          "name": "stderr"
        },
        {
          "output_type": "stream",
          "text": [
            "--------------- Epoch 27 ---------------\n"
          ],
          "name": "stdout"
        },
        {
          "output_type": "stream",
          "text": [
            "100%|██████████| 468/468 [00:34<00:00, 13.58it/s]\n",
            "  0%|          | 2/468 [00:00<00:33, 13.95it/s]"
          ],
          "name": "stderr"
        },
        {
          "output_type": "stream",
          "text": [
            "--------------- Epoch 28 ---------------\n"
          ],
          "name": "stdout"
        },
        {
          "output_type": "stream",
          "text": [
            "100%|██████████| 468/468 [00:34<00:00, 13.63it/s]\n",
            "  0%|          | 2/468 [00:00<00:33, 13.85it/s]"
          ],
          "name": "stderr"
        },
        {
          "output_type": "stream",
          "text": [
            "--------------- Epoch 29 ---------------\n"
          ],
          "name": "stdout"
        },
        {
          "output_type": "stream",
          "text": [
            "100%|██████████| 468/468 [00:34<00:00, 13.80it/s]\n",
            "  0%|          | 2/468 [00:00<00:33, 13.92it/s]"
          ],
          "name": "stderr"
        },
        {
          "output_type": "stream",
          "text": [
            "--------------- Epoch 30 ---------------\n"
          ],
          "name": "stdout"
        },
        {
          "output_type": "stream",
          "text": [
            "100%|██████████| 468/468 [00:34<00:00, 13.66it/s]\n",
            "  0%|          | 2/468 [00:00<00:34, 13.61it/s]"
          ],
          "name": "stderr"
        },
        {
          "output_type": "stream",
          "text": [
            "--------------- Epoch 31 ---------------\n"
          ],
          "name": "stdout"
        },
        {
          "output_type": "stream",
          "text": [
            "100%|██████████| 468/468 [00:34<00:00, 13.50it/s]\n",
            "  0%|          | 2/468 [00:00<00:33, 13.93it/s]"
          ],
          "name": "stderr"
        },
        {
          "output_type": "stream",
          "text": [
            "--------------- Epoch 32 ---------------\n"
          ],
          "name": "stdout"
        },
        {
          "output_type": "stream",
          "text": [
            "100%|██████████| 468/468 [00:34<00:00, 13.69it/s]\n",
            "  0%|          | 2/468 [00:00<00:35, 13.29it/s]"
          ],
          "name": "stderr"
        },
        {
          "output_type": "stream",
          "text": [
            "--------------- Epoch 33 ---------------\n"
          ],
          "name": "stdout"
        },
        {
          "output_type": "stream",
          "text": [
            "100%|██████████| 468/468 [00:34<00:00, 13.68it/s]\n",
            "  0%|          | 2/468 [00:00<00:35, 13.24it/s]"
          ],
          "name": "stderr"
        },
        {
          "output_type": "stream",
          "text": [
            "--------------- Epoch 34 ---------------\n"
          ],
          "name": "stdout"
        },
        {
          "output_type": "stream",
          "text": [
            "100%|██████████| 468/468 [00:34<00:00, 13.66it/s]\n",
            "  0%|          | 2/468 [00:00<00:34, 13.65it/s]"
          ],
          "name": "stderr"
        },
        {
          "output_type": "stream",
          "text": [
            "--------------- Epoch 35 ---------------\n"
          ],
          "name": "stdout"
        },
        {
          "output_type": "stream",
          "text": [
            "100%|██████████| 468/468 [00:34<00:00, 13.53it/s]\n",
            "  0%|          | 2/468 [00:00<00:34, 13.34it/s]"
          ],
          "name": "stderr"
        },
        {
          "output_type": "stream",
          "text": [
            "--------------- Epoch 36 ---------------\n"
          ],
          "name": "stdout"
        },
        {
          "output_type": "stream",
          "text": [
            "100%|██████████| 468/468 [00:34<00:00, 13.70it/s]\n",
            "  0%|          | 2/468 [00:00<00:34, 13.69it/s]"
          ],
          "name": "stderr"
        },
        {
          "output_type": "stream",
          "text": [
            "--------------- Epoch 37 ---------------\n"
          ],
          "name": "stdout"
        },
        {
          "output_type": "stream",
          "text": [
            "100%|██████████| 468/468 [00:34<00:00, 13.62it/s]\n",
            "  0%|          | 2/468 [00:00<00:34, 13.68it/s]"
          ],
          "name": "stderr"
        },
        {
          "output_type": "stream",
          "text": [
            "--------------- Epoch 38 ---------------\n"
          ],
          "name": "stdout"
        },
        {
          "output_type": "stream",
          "text": [
            "100%|██████████| 468/468 [00:34<00:00, 13.90it/s]\n",
            "  0%|          | 2/468 [00:00<00:33, 13.71it/s]"
          ],
          "name": "stderr"
        },
        {
          "output_type": "stream",
          "text": [
            "--------------- Epoch 39 ---------------\n"
          ],
          "name": "stdout"
        },
        {
          "output_type": "stream",
          "text": [
            "100%|██████████| 468/468 [00:34<00:00, 13.57it/s]\n",
            "  0%|          | 2/468 [00:00<00:33, 13.75it/s]"
          ],
          "name": "stderr"
        },
        {
          "output_type": "stream",
          "text": [
            "--------------- Epoch 40 ---------------\n"
          ],
          "name": "stdout"
        },
        {
          "output_type": "stream",
          "text": [
            "100%|██████████| 468/468 [00:34<00:00, 13.80it/s]\n",
            "  0%|          | 2/468 [00:00<00:33, 13.74it/s]"
          ],
          "name": "stderr"
        },
        {
          "output_type": "stream",
          "text": [
            "--------------- Epoch 41 ---------------\n"
          ],
          "name": "stdout"
        },
        {
          "output_type": "stream",
          "text": [
            "100%|██████████| 468/468 [00:34<00:00, 13.80it/s]\n",
            "  0%|          | 2/468 [00:00<00:34, 13.68it/s]"
          ],
          "name": "stderr"
        },
        {
          "output_type": "stream",
          "text": [
            "--------------- Epoch 42 ---------------\n"
          ],
          "name": "stdout"
        },
        {
          "output_type": "stream",
          "text": [
            "100%|██████████| 468/468 [00:34<00:00, 13.64it/s]\n",
            "  0%|          | 2/468 [00:00<00:33, 13.90it/s]"
          ],
          "name": "stderr"
        },
        {
          "output_type": "stream",
          "text": [
            "--------------- Epoch 43 ---------------\n"
          ],
          "name": "stdout"
        },
        {
          "output_type": "stream",
          "text": [
            "100%|██████████| 468/468 [00:34<00:00, 13.58it/s]\n",
            "  0%|          | 2/468 [00:00<00:33, 13.83it/s]"
          ],
          "name": "stderr"
        },
        {
          "output_type": "stream",
          "text": [
            "--------------- Epoch 44 ---------------\n"
          ],
          "name": "stdout"
        },
        {
          "output_type": "stream",
          "text": [
            "100%|██████████| 468/468 [00:34<00:00, 13.69it/s]\n",
            "  0%|          | 2/468 [00:00<00:33, 13.93it/s]"
          ],
          "name": "stderr"
        },
        {
          "output_type": "stream",
          "text": [
            "--------------- Epoch 45 ---------------\n"
          ],
          "name": "stdout"
        },
        {
          "output_type": "stream",
          "text": [
            "100%|██████████| 468/468 [00:34<00:00, 13.67it/s]\n",
            "  0%|          | 2/468 [00:00<00:35, 13.29it/s]"
          ],
          "name": "stderr"
        },
        {
          "output_type": "stream",
          "text": [
            "--------------- Epoch 46 ---------------\n"
          ],
          "name": "stdout"
        },
        {
          "output_type": "stream",
          "text": [
            "100%|██████████| 468/468 [00:34<00:00, 13.67it/s]\n",
            "  0%|          | 2/468 [00:00<00:36, 12.73it/s]"
          ],
          "name": "stderr"
        },
        {
          "output_type": "stream",
          "text": [
            "--------------- Epoch 47 ---------------\n"
          ],
          "name": "stdout"
        },
        {
          "output_type": "stream",
          "text": [
            "100%|██████████| 468/468 [00:34<00:00, 13.97it/s]\n",
            "  0%|          | 2/468 [00:00<00:33, 13.97it/s]"
          ],
          "name": "stderr"
        },
        {
          "output_type": "stream",
          "text": [
            "--------------- Epoch 48 ---------------\n"
          ],
          "name": "stdout"
        },
        {
          "output_type": "stream",
          "text": [
            "100%|██████████| 468/468 [00:34<00:00, 13.77it/s]\n",
            "  0%|          | 2/468 [00:00<00:35, 13.18it/s]"
          ],
          "name": "stderr"
        },
        {
          "output_type": "stream",
          "text": [
            "--------------- Epoch 49 ---------------\n"
          ],
          "name": "stdout"
        },
        {
          "output_type": "stream",
          "text": [
            "100%|██████████| 468/468 [00:34<00:00, 13.61it/s]\n",
            "  0%|          | 2/468 [00:00<00:33, 13.90it/s]"
          ],
          "name": "stderr"
        },
        {
          "output_type": "stream",
          "text": [
            "--------------- Epoch 50 ---------------\n"
          ],
          "name": "stdout"
        },
        {
          "output_type": "stream",
          "text": [
            "100%|██████████| 468/468 [00:34<00:00, 13.55it/s]\n",
            "  0%|          | 2/468 [00:00<00:37, 12.59it/s]"
          ],
          "name": "stderr"
        },
        {
          "output_type": "stream",
          "text": [
            "--------------- Epoch 51 ---------------\n"
          ],
          "name": "stdout"
        },
        {
          "output_type": "stream",
          "text": [
            "100%|██████████| 468/468 [00:34<00:00, 13.58it/s]\n",
            "  0%|          | 2/468 [00:00<00:34, 13.68it/s]"
          ],
          "name": "stderr"
        },
        {
          "output_type": "stream",
          "text": [
            "--------------- Epoch 52 ---------------\n"
          ],
          "name": "stdout"
        },
        {
          "output_type": "stream",
          "text": [
            "100%|██████████| 468/468 [00:34<00:00, 13.55it/s]\n",
            "  0%|          | 2/468 [00:00<00:34, 13.70it/s]"
          ],
          "name": "stderr"
        },
        {
          "output_type": "stream",
          "text": [
            "--------------- Epoch 53 ---------------\n"
          ],
          "name": "stdout"
        },
        {
          "output_type": "stream",
          "text": [
            "100%|██████████| 468/468 [00:34<00:00, 13.77it/s]\n",
            "  0%|          | 2/468 [00:00<00:33, 13.81it/s]"
          ],
          "name": "stderr"
        },
        {
          "output_type": "stream",
          "text": [
            "--------------- Epoch 54 ---------------\n"
          ],
          "name": "stdout"
        },
        {
          "output_type": "stream",
          "text": [
            "100%|██████████| 468/468 [00:34<00:00, 13.68it/s]\n",
            "  0%|          | 2/468 [00:00<00:33, 13.93it/s]"
          ],
          "name": "stderr"
        },
        {
          "output_type": "stream",
          "text": [
            "--------------- Epoch 55 ---------------\n"
          ],
          "name": "stdout"
        },
        {
          "output_type": "stream",
          "text": [
            "100%|██████████| 468/468 [00:34<00:00, 13.65it/s]\n",
            "  0%|          | 2/468 [00:00<00:34, 13.60it/s]"
          ],
          "name": "stderr"
        },
        {
          "output_type": "stream",
          "text": [
            "--------------- Epoch 56 ---------------\n"
          ],
          "name": "stdout"
        },
        {
          "output_type": "stream",
          "text": [
            "100%|██████████| 468/468 [00:34<00:00, 13.75it/s]\n",
            "  0%|          | 2/468 [00:00<00:34, 13.58it/s]"
          ],
          "name": "stderr"
        },
        {
          "output_type": "stream",
          "text": [
            "--------------- Epoch 57 ---------------\n"
          ],
          "name": "stdout"
        },
        {
          "output_type": "stream",
          "text": [
            "100%|██████████| 468/468 [00:34<00:00, 13.69it/s]\n",
            "  0%|          | 2/468 [00:00<00:34, 13.47it/s]"
          ],
          "name": "stderr"
        },
        {
          "output_type": "stream",
          "text": [
            "--------------- Epoch 58 ---------------\n"
          ],
          "name": "stdout"
        },
        {
          "output_type": "stream",
          "text": [
            "100%|██████████| 468/468 [00:34<00:00, 13.65it/s]\n",
            "  0%|          | 2/468 [00:00<00:34, 13.53it/s]"
          ],
          "name": "stderr"
        },
        {
          "output_type": "stream",
          "text": [
            "--------------- Epoch 59 ---------------\n"
          ],
          "name": "stdout"
        },
        {
          "output_type": "stream",
          "text": [
            "100%|██████████| 468/468 [00:34<00:00, 13.58it/s]\n",
            "  0%|          | 2/468 [00:00<00:33, 14.08it/s]"
          ],
          "name": "stderr"
        },
        {
          "output_type": "stream",
          "text": [
            "--------------- Epoch 60 ---------------\n"
          ],
          "name": "stdout"
        },
        {
          "output_type": "stream",
          "text": [
            "100%|██████████| 468/468 [00:34<00:00, 13.66it/s]\n",
            "  0%|          | 2/468 [00:00<00:34, 13.35it/s]"
          ],
          "name": "stderr"
        },
        {
          "output_type": "stream",
          "text": [
            "--------------- Epoch 61 ---------------\n"
          ],
          "name": "stdout"
        },
        {
          "output_type": "stream",
          "text": [
            "100%|██████████| 468/468 [00:34<00:00, 13.51it/s]\n",
            "  0%|          | 2/468 [00:00<00:33, 14.08it/s]"
          ],
          "name": "stderr"
        },
        {
          "output_type": "stream",
          "text": [
            "--------------- Epoch 62 ---------------\n"
          ],
          "name": "stdout"
        },
        {
          "output_type": "stream",
          "text": [
            "100%|██████████| 468/468 [00:34<00:00, 13.71it/s]\n",
            "  0%|          | 2/468 [00:00<00:36, 12.78it/s]"
          ],
          "name": "stderr"
        },
        {
          "output_type": "stream",
          "text": [
            "--------------- Epoch 63 ---------------\n"
          ],
          "name": "stdout"
        },
        {
          "output_type": "stream",
          "text": [
            "100%|██████████| 468/468 [00:34<00:00, 13.73it/s]\n",
            "  0%|          | 2/468 [00:00<00:34, 13.66it/s]"
          ],
          "name": "stderr"
        },
        {
          "output_type": "stream",
          "text": [
            "--------------- Epoch 64 ---------------\n"
          ],
          "name": "stdout"
        },
        {
          "output_type": "stream",
          "text": [
            "100%|██████████| 468/468 [00:34<00:00, 13.62it/s]\n",
            "  0%|          | 2/468 [00:00<00:33, 13.83it/s]"
          ],
          "name": "stderr"
        },
        {
          "output_type": "stream",
          "text": [
            "--------------- Epoch 65 ---------------\n"
          ],
          "name": "stdout"
        },
        {
          "output_type": "stream",
          "text": [
            "100%|██████████| 468/468 [00:34<00:00, 13.79it/s]\n",
            "  0%|          | 2/468 [00:00<00:34, 13.43it/s]"
          ],
          "name": "stderr"
        },
        {
          "output_type": "stream",
          "text": [
            "--------------- Epoch 66 ---------------\n"
          ],
          "name": "stdout"
        },
        {
          "output_type": "stream",
          "text": [
            "100%|██████████| 468/468 [00:34<00:00, 13.55it/s]\n",
            "  0%|          | 2/468 [00:00<00:33, 14.03it/s]"
          ],
          "name": "stderr"
        },
        {
          "output_type": "stream",
          "text": [
            "--------------- Epoch 67 ---------------\n"
          ],
          "name": "stdout"
        },
        {
          "output_type": "stream",
          "text": [
            "100%|██████████| 468/468 [00:34<00:00, 13.71it/s]\n",
            "  0%|          | 2/468 [00:00<00:34, 13.67it/s]"
          ],
          "name": "stderr"
        },
        {
          "output_type": "stream",
          "text": [
            "--------------- Epoch 68 ---------------\n"
          ],
          "name": "stdout"
        },
        {
          "output_type": "stream",
          "text": [
            "100%|██████████| 468/468 [00:34<00:00, 13.53it/s]\n",
            "  0%|          | 2/468 [00:00<00:34, 13.49it/s]"
          ],
          "name": "stderr"
        },
        {
          "output_type": "stream",
          "text": [
            "--------------- Epoch 69 ---------------\n"
          ],
          "name": "stdout"
        },
        {
          "output_type": "stream",
          "text": [
            "100%|██████████| 468/468 [00:34<00:00, 13.64it/s]\n",
            "  0%|          | 2/468 [00:00<00:33, 14.07it/s]"
          ],
          "name": "stderr"
        },
        {
          "output_type": "stream",
          "text": [
            "--------------- Epoch 70 ---------------\n"
          ],
          "name": "stdout"
        },
        {
          "output_type": "stream",
          "text": [
            "100%|██████████| 468/468 [00:34<00:00, 13.65it/s]\n",
            "  0%|          | 2/468 [00:00<00:33, 13.95it/s]"
          ],
          "name": "stderr"
        },
        {
          "output_type": "stream",
          "text": [
            "--------------- Epoch 71 ---------------\n"
          ],
          "name": "stdout"
        },
        {
          "output_type": "stream",
          "text": [
            "100%|██████████| 468/468 [00:34<00:00, 13.71it/s]\n",
            "  0%|          | 2/468 [00:00<00:32, 14.14it/s]"
          ],
          "name": "stderr"
        },
        {
          "output_type": "stream",
          "text": [
            "--------------- Epoch 72 ---------------\n"
          ],
          "name": "stdout"
        },
        {
          "output_type": "stream",
          "text": [
            "100%|██████████| 468/468 [00:34<00:00, 13.54it/s]\n",
            "  0%|          | 2/468 [00:00<00:34, 13.46it/s]"
          ],
          "name": "stderr"
        },
        {
          "output_type": "stream",
          "text": [
            "--------------- Epoch 73 ---------------\n"
          ],
          "name": "stdout"
        },
        {
          "output_type": "stream",
          "text": [
            "100%|██████████| 468/468 [00:34<00:00, 13.57it/s]\n",
            "  0%|          | 2/468 [00:00<00:33, 13.83it/s]"
          ],
          "name": "stderr"
        },
        {
          "output_type": "stream",
          "text": [
            "--------------- Epoch 74 ---------------\n"
          ],
          "name": "stdout"
        },
        {
          "output_type": "stream",
          "text": [
            "100%|██████████| 468/468 [00:34<00:00, 13.87it/s]\n",
            "  0%|          | 2/468 [00:00<00:33, 13.97it/s]"
          ],
          "name": "stderr"
        },
        {
          "output_type": "stream",
          "text": [
            "--------------- Epoch 75 ---------------\n"
          ],
          "name": "stdout"
        },
        {
          "output_type": "stream",
          "text": [
            "100%|██████████| 468/468 [00:34<00:00, 13.79it/s]\n",
            "  0%|          | 2/468 [00:00<00:34, 13.48it/s]"
          ],
          "name": "stderr"
        },
        {
          "output_type": "stream",
          "text": [
            "--------------- Epoch 76 ---------------\n"
          ],
          "name": "stdout"
        },
        {
          "output_type": "stream",
          "text": [
            "100%|██████████| 468/468 [00:34<00:00, 13.45it/s]\n",
            "  0%|          | 2/468 [00:00<00:33, 13.82it/s]"
          ],
          "name": "stderr"
        },
        {
          "output_type": "stream",
          "text": [
            "--------------- Epoch 77 ---------------\n"
          ],
          "name": "stdout"
        },
        {
          "output_type": "stream",
          "text": [
            "100%|██████████| 468/468 [00:34<00:00, 13.58it/s]\n",
            "  0%|          | 2/468 [00:00<00:33, 13.73it/s]"
          ],
          "name": "stderr"
        },
        {
          "output_type": "stream",
          "text": [
            "--------------- Epoch 78 ---------------\n"
          ],
          "name": "stdout"
        },
        {
          "output_type": "stream",
          "text": [
            "100%|██████████| 468/468 [00:34<00:00, 13.73it/s]\n",
            "  0%|          | 2/468 [00:00<00:33, 13.94it/s]"
          ],
          "name": "stderr"
        },
        {
          "output_type": "stream",
          "text": [
            "--------------- Epoch 79 ---------------\n"
          ],
          "name": "stdout"
        },
        {
          "output_type": "stream",
          "text": [
            "100%|██████████| 468/468 [00:34<00:00, 13.88it/s]\n",
            "  0%|          | 2/468 [00:00<00:33, 13.79it/s]"
          ],
          "name": "stderr"
        },
        {
          "output_type": "stream",
          "text": [
            "--------------- Epoch 80 ---------------\n"
          ],
          "name": "stdout"
        },
        {
          "output_type": "stream",
          "text": [
            "100%|██████████| 468/468 [00:34<00:00, 13.63it/s]\n",
            "  0%|          | 2/468 [00:00<00:36, 12.87it/s]"
          ],
          "name": "stderr"
        },
        {
          "output_type": "stream",
          "text": [
            "--------------- Epoch 81 ---------------\n"
          ],
          "name": "stdout"
        },
        {
          "output_type": "stream",
          "text": [
            "100%|██████████| 468/468 [00:34<00:00, 13.60it/s]\n",
            "  0%|          | 2/468 [00:00<00:33, 13.72it/s]"
          ],
          "name": "stderr"
        },
        {
          "output_type": "stream",
          "text": [
            "--------------- Epoch 82 ---------------\n"
          ],
          "name": "stdout"
        },
        {
          "output_type": "stream",
          "text": [
            "100%|██████████| 468/468 [00:34<00:00, 13.42it/s]\n",
            "  0%|          | 2/468 [00:00<00:33, 13.91it/s]"
          ],
          "name": "stderr"
        },
        {
          "output_type": "stream",
          "text": [
            "--------------- Epoch 83 ---------------\n"
          ],
          "name": "stdout"
        },
        {
          "output_type": "stream",
          "text": [
            "100%|██████████| 468/468 [00:34<00:00, 13.62it/s]\n",
            "  0%|          | 2/468 [00:00<00:32, 14.20it/s]"
          ],
          "name": "stderr"
        },
        {
          "output_type": "stream",
          "text": [
            "--------------- Epoch 84 ---------------\n"
          ],
          "name": "stdout"
        },
        {
          "output_type": "stream",
          "text": [
            "100%|██████████| 468/468 [00:34<00:00, 13.64it/s]\n",
            "  0%|          | 2/468 [00:00<00:33, 13.74it/s]"
          ],
          "name": "stderr"
        },
        {
          "output_type": "stream",
          "text": [
            "--------------- Epoch 85 ---------------\n"
          ],
          "name": "stdout"
        },
        {
          "output_type": "stream",
          "text": [
            "100%|██████████| 468/468 [00:34<00:00, 13.62it/s]\n",
            "  0%|          | 2/468 [00:00<00:35, 13.21it/s]"
          ],
          "name": "stderr"
        },
        {
          "output_type": "stream",
          "text": [
            "--------------- Epoch 86 ---------------\n"
          ],
          "name": "stdout"
        },
        {
          "output_type": "stream",
          "text": [
            "100%|██████████| 468/468 [00:34<00:00, 13.76it/s]\n",
            "  0%|          | 2/468 [00:00<00:34, 13.32it/s]"
          ],
          "name": "stderr"
        },
        {
          "output_type": "stream",
          "text": [
            "--------------- Epoch 87 ---------------\n"
          ],
          "name": "stdout"
        },
        {
          "output_type": "stream",
          "text": [
            "100%|██████████| 468/468 [00:34<00:00, 13.55it/s]\n",
            "  0%|          | 2/468 [00:00<00:33, 13.81it/s]"
          ],
          "name": "stderr"
        },
        {
          "output_type": "stream",
          "text": [
            "--------------- Epoch 88 ---------------\n"
          ],
          "name": "stdout"
        },
        {
          "output_type": "stream",
          "text": [
            "100%|██████████| 468/468 [00:34<00:00, 13.67it/s]\n",
            "  0%|          | 2/468 [00:00<00:34, 13.69it/s]"
          ],
          "name": "stderr"
        },
        {
          "output_type": "stream",
          "text": [
            "--------------- Epoch 89 ---------------\n"
          ],
          "name": "stdout"
        },
        {
          "output_type": "stream",
          "text": [
            "100%|██████████| 468/468 [00:34<00:00, 13.52it/s]\n",
            "  0%|          | 2/468 [00:00<00:34, 13.59it/s]"
          ],
          "name": "stderr"
        },
        {
          "output_type": "stream",
          "text": [
            "--------------- Epoch 90 ---------------\n"
          ],
          "name": "stdout"
        },
        {
          "output_type": "stream",
          "text": [
            "100%|██████████| 468/468 [00:34<00:00, 13.57it/s]\n",
            "  0%|          | 2/468 [00:00<00:34, 13.60it/s]"
          ],
          "name": "stderr"
        },
        {
          "output_type": "stream",
          "text": [
            "--------------- Epoch 91 ---------------\n"
          ],
          "name": "stdout"
        },
        {
          "output_type": "stream",
          "text": [
            "100%|██████████| 468/468 [00:34<00:00, 13.68it/s]\n",
            "  0%|          | 2/468 [00:00<00:33, 13.79it/s]"
          ],
          "name": "stderr"
        },
        {
          "output_type": "stream",
          "text": [
            "--------------- Epoch 92 ---------------\n"
          ],
          "name": "stdout"
        },
        {
          "output_type": "stream",
          "text": [
            "100%|██████████| 468/468 [00:34<00:00, 13.88it/s]\n",
            "  0%|          | 2/468 [00:00<00:33, 13.99it/s]"
          ],
          "name": "stderr"
        },
        {
          "output_type": "stream",
          "text": [
            "--------------- Epoch 93 ---------------\n"
          ],
          "name": "stdout"
        },
        {
          "output_type": "stream",
          "text": [
            "100%|██████████| 468/468 [00:34<00:00, 13.64it/s]\n",
            "  0%|          | 2/468 [00:00<00:34, 13.65it/s]"
          ],
          "name": "stderr"
        },
        {
          "output_type": "stream",
          "text": [
            "--------------- Epoch 94 ---------------\n"
          ],
          "name": "stdout"
        },
        {
          "output_type": "stream",
          "text": [
            "100%|██████████| 468/468 [00:34<00:00, 13.74it/s]\n",
            "  0%|          | 2/468 [00:00<00:33, 13.75it/s]"
          ],
          "name": "stderr"
        },
        {
          "output_type": "stream",
          "text": [
            "--------------- Epoch 95 ---------------\n"
          ],
          "name": "stdout"
        },
        {
          "output_type": "stream",
          "text": [
            "100%|██████████| 468/468 [00:34<00:00, 13.68it/s]\n",
            "  0%|          | 2/468 [00:00<00:35, 12.96it/s]"
          ],
          "name": "stderr"
        },
        {
          "output_type": "stream",
          "text": [
            "--------------- Epoch 96 ---------------\n"
          ],
          "name": "stdout"
        },
        {
          "output_type": "stream",
          "text": [
            "100%|██████████| 468/468 [00:34<00:00, 13.64it/s]\n",
            "  0%|          | 2/468 [00:00<00:33, 14.00it/s]"
          ],
          "name": "stderr"
        },
        {
          "output_type": "stream",
          "text": [
            "--------------- Epoch 97 ---------------\n"
          ],
          "name": "stdout"
        },
        {
          "output_type": "stream",
          "text": [
            "100%|██████████| 468/468 [00:34<00:00, 13.68it/s]\n",
            "  0%|          | 2/468 [00:00<00:33, 13.85it/s]"
          ],
          "name": "stderr"
        },
        {
          "output_type": "stream",
          "text": [
            "--------------- Epoch 98 ---------------\n"
          ],
          "name": "stdout"
        },
        {
          "output_type": "stream",
          "text": [
            "100%|██████████| 468/468 [00:34<00:00, 13.39it/s]\n",
            "  0%|          | 2/468 [00:00<00:32, 14.16it/s]"
          ],
          "name": "stderr"
        },
        {
          "output_type": "stream",
          "text": [
            "--------------- Epoch 99 ---------------\n"
          ],
          "name": "stdout"
        },
        {
          "output_type": "stream",
          "text": [
            "100%|██████████| 468/468 [00:34<00:00, 13.70it/s]\n",
            "  0%|          | 2/468 [00:00<00:33, 13.81it/s]"
          ],
          "name": "stderr"
        },
        {
          "output_type": "stream",
          "text": [
            "--------------- Epoch 100 ---------------\n"
          ],
          "name": "stdout"
        },
        {
          "output_type": "stream",
          "text": [
            "100%|██████████| 468/468 [00:34<00:00, 13.64it/s]\n",
            "/usr/local/lib/python3.6/dist-packages/matplotlib/pyplot.py:528: RuntimeWarning: More than 20 figures have been opened. Figures created through the pyplot interface (`matplotlib.pyplot.figure`) are retained until explicitly closed and may consume too much memory. (To control this warning, see the rcParam `figure.max_open_warning`).\n",
            "  max_open_warning, RuntimeWarning)\n",
            "  0%|          | 2/468 [00:00<00:35, 13.22it/s]"
          ],
          "name": "stderr"
        },
        {
          "output_type": "stream",
          "text": [
            "--------------- Epoch 101 ---------------\n"
          ],
          "name": "stdout"
        },
        {
          "output_type": "stream",
          "text": [
            "100%|██████████| 468/468 [00:34<00:00, 13.77it/s]\n",
            "  0%|          | 2/468 [00:00<00:34, 13.35it/s]"
          ],
          "name": "stderr"
        },
        {
          "output_type": "stream",
          "text": [
            "--------------- Epoch 102 ---------------\n"
          ],
          "name": "stdout"
        },
        {
          "output_type": "stream",
          "text": [
            "100%|██████████| 468/468 [00:34<00:00, 13.70it/s]\n",
            "  0%|          | 2/468 [00:00<00:34, 13.33it/s]"
          ],
          "name": "stderr"
        },
        {
          "output_type": "stream",
          "text": [
            "--------------- Epoch 103 ---------------\n"
          ],
          "name": "stdout"
        },
        {
          "output_type": "stream",
          "text": [
            "100%|██████████| 468/468 [00:34<00:00, 13.59it/s]\n",
            "  0%|          | 2/468 [00:00<00:33, 14.09it/s]"
          ],
          "name": "stderr"
        },
        {
          "output_type": "stream",
          "text": [
            "--------------- Epoch 104 ---------------\n"
          ],
          "name": "stdout"
        },
        {
          "output_type": "stream",
          "text": [
            "100%|██████████| 468/468 [00:34<00:00, 13.66it/s]\n",
            "  0%|          | 2/468 [00:00<00:33, 14.02it/s]"
          ],
          "name": "stderr"
        },
        {
          "output_type": "stream",
          "text": [
            "--------------- Epoch 105 ---------------\n"
          ],
          "name": "stdout"
        },
        {
          "output_type": "stream",
          "text": [
            "100%|██████████| 468/468 [00:34<00:00, 13.67it/s]\n",
            "  0%|          | 2/468 [00:00<00:33, 13.83it/s]"
          ],
          "name": "stderr"
        },
        {
          "output_type": "stream",
          "text": [
            "--------------- Epoch 106 ---------------\n"
          ],
          "name": "stdout"
        },
        {
          "output_type": "stream",
          "text": [
            "100%|██████████| 468/468 [00:34<00:00, 13.71it/s]\n",
            "  0%|          | 2/468 [00:00<00:33, 13.90it/s]"
          ],
          "name": "stderr"
        },
        {
          "output_type": "stream",
          "text": [
            "--------------- Epoch 107 ---------------\n"
          ],
          "name": "stdout"
        },
        {
          "output_type": "stream",
          "text": [
            "100%|██████████| 468/468 [00:34<00:00, 13.52it/s]\n",
            "  0%|          | 2/468 [00:00<00:33, 14.06it/s]"
          ],
          "name": "stderr"
        },
        {
          "output_type": "stream",
          "text": [
            "--------------- Epoch 108 ---------------\n"
          ],
          "name": "stdout"
        },
        {
          "output_type": "stream",
          "text": [
            "100%|██████████| 468/468 [00:34<00:00, 13.61it/s]\n",
            "  0%|          | 2/468 [00:00<00:33, 13.99it/s]"
          ],
          "name": "stderr"
        },
        {
          "output_type": "stream",
          "text": [
            "--------------- Epoch 109 ---------------\n"
          ],
          "name": "stdout"
        },
        {
          "output_type": "stream",
          "text": [
            "100%|██████████| 468/468 [00:34<00:00, 13.68it/s]\n",
            "  0%|          | 2/468 [00:00<00:34, 13.70it/s]"
          ],
          "name": "stderr"
        },
        {
          "output_type": "stream",
          "text": [
            "--------------- Epoch 110 ---------------\n"
          ],
          "name": "stdout"
        },
        {
          "output_type": "stream",
          "text": [
            "100%|██████████| 468/468 [00:34<00:00, 13.72it/s]\n",
            "  0%|          | 2/468 [00:00<00:33, 13.79it/s]"
          ],
          "name": "stderr"
        },
        {
          "output_type": "stream",
          "text": [
            "--------------- Epoch 111 ---------------\n"
          ],
          "name": "stdout"
        },
        {
          "output_type": "stream",
          "text": [
            "100%|██████████| 468/468 [00:34<00:00, 13.83it/s]\n",
            "  0%|          | 2/468 [00:00<00:33, 13.94it/s]"
          ],
          "name": "stderr"
        },
        {
          "output_type": "stream",
          "text": [
            "--------------- Epoch 112 ---------------\n"
          ],
          "name": "stdout"
        },
        {
          "output_type": "stream",
          "text": [
            "100%|██████████| 468/468 [00:34<00:00, 13.69it/s]\n",
            "  0%|          | 2/468 [00:00<00:33, 13.91it/s]"
          ],
          "name": "stderr"
        },
        {
          "output_type": "stream",
          "text": [
            "--------------- Epoch 113 ---------------\n"
          ],
          "name": "stdout"
        },
        {
          "output_type": "stream",
          "text": [
            "100%|██████████| 468/468 [00:34<00:00, 13.65it/s]\n",
            "  0%|          | 2/468 [00:00<00:35, 13.11it/s]"
          ],
          "name": "stderr"
        },
        {
          "output_type": "stream",
          "text": [
            "--------------- Epoch 114 ---------------\n"
          ],
          "name": "stdout"
        },
        {
          "output_type": "stream",
          "text": [
            " 52%|█████▏    | 242/468 [00:17<00:16, 13.67it/s]"
          ],
          "name": "stderr"
        }
      ]
    }
  ]
}